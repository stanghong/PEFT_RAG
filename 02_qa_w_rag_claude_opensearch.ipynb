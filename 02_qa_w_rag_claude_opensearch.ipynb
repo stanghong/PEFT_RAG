{
 "cells": [
  {
   "cell_type": "markdown",
   "metadata": {},
   "source": [
    "# Retrieval Augmented Question & Answering with Amazon Bedrock using LangChain & Amazon OpenSearch\n",
    "\n",
    "> *This notebook should work well with the **`Data Science 3.0`** kernel in SageMaker Studio*"
   ]
  },
  {
   "cell_type": "markdown",
   "metadata": {},
   "source": [
    "### Context\n",
    "Previously we saw that the model told us how to to change the tire, however we had to manually provide it with the relevant data and provide the contex ourselves. We explored the approach to leverage the model availabe under Bedrock and ask questions based on it's knowledge learned during training as well as providing manual context. While that approach works with short documents or single-ton applications, it fails to scale to enterprise level question answering where there could be large enterprise documents which cannot all be fit into the prompt sent to the model. \n",
    "\n",
    "### Pattern\n",
    "We can improve upon this process by implementing an architecure called Retreival Augmented Generation (RAG). RAG retrieves data from outside the language model (non-parametric) and augments the prompts by adding the relevant retrieved data in context. \n",
    "\n",
    "In this notebook we explain how to approach the pattern of Question Answering to find and leverage the documents to provide answers to the user questions.\n",
    "\n",
    "### Challenges\n",
    "- How to manage large document(s) that exceed the token limit\n",
    "- How to find the document(s) relevant to the question being asked\n",
    "\n",
    "### Proposal\n",
    "To the above challenges, this notebook proposes the following strategy\n",
    "#### Prepare documents\n",
    "![Embeddings](./images/Embeddings_lang.png)\n",
    "\n",
    "Before being able to answer the questions, the documents must be processed and a stored in a document store index\n",
    "- Load the documents\n",
    "- Process and split them into smaller chunks\n",
    "- Create a numerical vector representation of each chunk using Amazon Bedrock Titan Embeddings model\n",
    "- Create an index using the chunks and the corresponding embeddings\n",
    "#### Ask question\n",
    "![Question](./images/Chatbot_lang.png)\n",
    "\n",
    "When the documents index is prepared, you are ready to ask the questions and relevant documents will be fetched based on the question being asked. Following steps will be executed.\n",
    "- Create an embedding of the input question\n",
    "- Compare the question embedding with the embeddings in the index\n",
    "- Fetch the (top N) relevant document chunks\n",
    "- Add those chunks as part of the context in the prompt\n",
    "- Send the prompt to the model under Amazon Bedrock\n",
    "- Get the contextual answer based on the documents retrieved"
   ]
  },
  {
   "cell_type": "markdown",
   "metadata": {},
   "source": [
    "## Usecase\n",
    "#### Dataset\n",
    "To explain this architecture pattern we are using the documents from IRS. These documents explain topics such as:\n",
    "- Original Issue Discount (OID) Instruments\n",
    "- Reporting Cash Payments of Over $10,000 to IRS\n",
    "- Employer's Tax Guide\n",
    "\n",
    "#### Persona\n",
    "Let's assume a persona of a layman who doesn't have an understanding of how IRS works and if some actions have implications or not.\n",
    "\n",
    "The model will try to answer from the documents in easy language.\n"
   ]
  },
  {
   "cell_type": "markdown",
   "metadata": {},
   "source": [
    "## Implementation\n",
    "In order to follow the RAG approach this notebook is using the LangChain framework where it has integrations with different services and tools that allow efficient building of patterns such as RAG. We will be using the following tools:\n",
    "\n",
    "- **LLM (Large Language Model)**: Anthropic Claude V2 available through Amazon Bedrock\n",
    "\n",
    "  This model will be used to understand the document chunks and provide an answer in human friendly manner.\n",
    "- **Embeddings Model**: Amazon Titan Embeddings available through Amazon Bedrock\n",
    "\n",
    "  This model will be used to generate a numerical representation of the textual documents\n",
    "- **Document Loader**: PDF Loader available through LangChain\n",
    "\n",
    "  This is the loader that can load the documents from a source, for the sake of this notebook we are loading the sample files from a local path. This could easily be replaced with a loader to load documents from enterprise internal systems.\n",
    "\n",
    "- **Vector Store**: OpenSearch available through LangChain\n",
    "\n",
    "  In this notebook we are using Amazon OpenSearch as a vector-store to store both the embeddings and the documents. \n",
    "- **Index**: VectorIndex\n",
    "\n",
    "  The index helps to compare the input embedding and the document embeddings to find relevant document\n",
    "- **Wrapper**: wraps index, vector store, embeddings model and the LLM to abstract away the logic from the user."
   ]
  },
  {
   "cell_type": "markdown",
   "metadata": {},
   "source": [
    "## Setup\n",
    "\n",
    "Before running the rest of this notebook, you'll need to run the cells below to (ensure necessary libraries are installed and) connect to Bedrock.\n",
    "\n",
    "For more details on how the setup works and ⚠️ **whether you might need to make any changes**, refer to the [Bedrock boto3 setup notebook](../00_Intro/bedrock_boto3_setup.ipynb) notebook.\n",
    "\n",
    "In this notebook, we'll also need some extra dependencies:\n",
    "\n",
    "- [OpenSearch Python Client](https://pypi.org/project/opensearch-py/), to store vector embeddings\n",
    "- [PyPDF](https://pypi.org/project/pypdf/), for handling PDF files"
   ]
  },
  {
   "cell_type": "code",
   "execution_count": 4,
   "metadata": {
    "scrolled": true,
    "tags": []
   },
   "outputs": [
    {
     "name": "stdout",
     "output_type": "stream",
     "text": [
      "Note: you may need to restart the kernel to use updated packages.\n"
     ]
    }
   ],
   "source": [
    "%pip install --no-build-isolation --force-reinstall --quiet\\\n",
    "    \"boto3>=1.28.57\" \\\n",
    "    \"awscli>=1.29.57\" \\\n",
    "    \"botocore>=1.31.57\""
   ]
  },
  {
   "cell_type": "code",
   "execution_count": 5,
   "metadata": {
    "scrolled": true,
    "tags": []
   },
   "outputs": [],
   "source": [
    "# %pip install -U --quiet \\\n",
    "#     opensearch-py==2.3.1 langchain==0.0.309 \"pypdf>=3.8,<4\" \\\n",
    "#     apache-beam \\\n",
    "#     datasets \\\n",
    "#     tiktoken"
   ]
  },
  {
   "cell_type": "code",
   "execution_count": 6,
   "metadata": {},
   "outputs": [],
   "source": [
    "import warnings\n",
    "warnings.filterwarnings('ignore')"
   ]
  },
  {
   "cell_type": "code",
   "execution_count": 7,
   "metadata": {
    "tags": []
   },
   "outputs": [
    {
     "name": "stdout",
     "output_type": "stream",
     "text": [
      "Create new client\n",
      "  Using region: us-east-1\n"
     ]
    },
    {
     "name": "stdout",
     "output_type": "stream",
     "text": [
      "boto3 Bedrock client successfully created!\n",
      "bedrock-runtime(https://bedrock-runtime.us-east-1.amazonaws.com)\n"
     ]
    }
   ],
   "source": [
    "import json\n",
    "import os\n",
    "import sys\n",
    "\n",
    "import boto3\n",
    "\n",
    "module_path = \"..\"\n",
    "sys.path.append(os.path.abspath(module_path))\n",
    "from utils import bedrock, print_ww\n",
    "\n",
    "\n",
    "# ---- ⚠️ Un-comment and edit the below lines as needed for your AWS setup ⚠️ ----\n",
    "\n",
    "# os.environ[\"AWS_DEFAULT_REGION\"] = \"<REGION_NAME>\"  # E.g. \"us-east-1\"\n",
    "# os.environ[\"AWS_PROFILE\"] = \"<YOUR_PROFILE>\"\n",
    "# os.environ[\"BEDROCK_ASSUME_ROLE\"] = \"<YOUR_ROLE_ARN>\"  # E.g. \"arn:aws:...\"\n",
    "\n",
    "os.environ[\"AWS_DEFAULT_REGION\"] = \"us-east-1\" \n",
    "\n",
    "boto3_bedrock = bedrock.get_bedrock_client(\n",
    "    #assumed_role=os.environ.get(\"BEDROCK_ASSUME_ROLE\", None),\n",
    "    region=os.environ.get(\"AWS_DEFAULT_REGION\", None)\n",
    ")\n"
   ]
  },
  {
   "cell_type": "markdown",
   "metadata": {},
   "source": [
    "## Configure langchain\n",
    "\n",
    "We begin with instantiating the LLM and the Embeddings model. Here we are using Anthropic Claude for text generation and Amazon Titan for text embedding.\n",
    "\n",
    "Note: It is possible to choose other models available with Bedrock. You can replace the `model_id` as follows to change the model.\n",
    "\n",
    "`llm = Bedrock(model_id=\"amazon.titan-tg1-large\")`\n",
    "\n",
    "Available model IDs include:\n",
    "\n",
    "- `ai21.j2-ultra-v1`\n",
    "- `ai21.j2-mid-v1`\n",
    "- `amazon.titan-embed-text-v1`\n",
    "- `amazon.titan-text-express-v1`\n",
    "- `anthropic.claude-v1`\n",
    "- `anthropic.claude-v2`\n",
    "- `anthropic.claude-instant-v1`"
   ]
  },
  {
   "cell_type": "code",
   "execution_count": 8,
   "metadata": {
    "tags": []
   },
   "outputs": [],
   "source": [
    "# We will be using the Titan Embeddings Model to generate our Embeddings.\n",
    "from langchain.embeddings import BedrockEmbeddings\n",
    "from langchain.llms.bedrock import Bedrock\n",
    "from langchain.load.dump import dumps\n",
    "\n",
    "# - create the Anthropic Model\n",
    "llm = Bedrock(\n",
    "    model_id=\"anthropic.claude-v2\", client=boto3_bedrock, model_kwargs={\"max_tokens_to_sample\": 200}\n",
    ")\n",
    "bedrock_embeddings = BedrockEmbeddings(client=boto3_bedrock)"
   ]
  },
  {
   "cell_type": "markdown",
   "metadata": {},
   "source": [
    "## Data Preparation\n",
    "Let's first download some of the files to build our document store. For this example we will be using public IRS documents from [here](https://www.irs.gov/publications)."
   ]
  },
  {
   "cell_type": "code",
   "execution_count": 9,
   "metadata": {
    "tags": []
   },
   "outputs": [],
   "source": [
    "# from urllib.request import urlretrieve\n",
    "\n",
    "# os.makedirs(\"data\", exist_ok=True)\n",
    "# files = [\n",
    "#     \"https://www.irs.gov/pub/irs-pdf/p1544.pdf\",\n",
    "#     \"https://www.irs.gov/pub/irs-pdf/p15.pdf\",\n",
    "#     \"https://www.irs.gov/pub/irs-pdf/p1212.pdf\",\n",
    "# ]\n",
    "# for url in files:\n",
    "#     file_path = os.path.join(\"data\", url.rpartition(\"/\")[2])\n",
    "#     urlretrieve(url, file_path)"
   ]
  },
  {
   "cell_type": "markdown",
   "metadata": {},
   "source": [
    "After downloading we can load the documents with the help of [DirectoryLoader from PyPDF available under LangChain](https://python.langchain.com/en/latest/reference/modules/document_loaders.html) and splitting them into smaller chunks.\n",
    "\n",
    "Note: The retrieved document/text should be large enough to contain enough information to answer a question; but small enough to fit into the LLM prompt. Also the embeddings model has a limit of the length of input tokens limited to 8k tokens, which roughly translates to ~32000 characters. For the sake of this use-case we are creating chunks of roughly 2000 characters with an overlap of 200 characters using [RecursiveCharacterTextSplitter](https://python.langchain.com/en/latest/modules/indexes/text_splitters/examples/recursive_text_splitter.html)."
   ]
  },
  {
   "cell_type": "code",
   "execution_count": 10,
   "metadata": {},
   "outputs": [],
   "source": [
    "# !pip install pypdf"
   ]
  },
  {
   "cell_type": "code",
   "execution_count": 11,
   "metadata": {
    "tags": []
   },
   "outputs": [],
   "source": [
    "import numpy as np\n",
    "from langchain.text_splitter import CharacterTextSplitter, RecursiveCharacterTextSplitter\n",
    "from langchain.document_loaders import PyPDFLoader, PyPDFDirectoryLoader\n",
    "\n",
    "loader = PyPDFDirectoryLoader(\"./data/\")\n",
    "\n",
    "documents = loader.load()\n",
    "# - in our testing Character split works better with this PDF data set\n",
    "text_splitter = RecursiveCharacterTextSplitter(\n",
    "    # Set a really small chunk size, just to show.\n",
    "    chunk_size=2000,\n",
    "    chunk_overlap=200,\n",
    ")\n",
    "docs = text_splitter.split_documents(documents)"
   ]
  },
  {
   "cell_type": "code",
   "execution_count": 12,
   "metadata": {
    "tags": []
   },
   "outputs": [
    {
     "name": "stdout",
     "output_type": "stream",
     "text": [
      "Average length among 111 documents loaded is 4500 characters.\n",
      "After the split we have 329 documents more than the original 111.\n",
      "Average length among 329 documents (after split) is 1635 characters.\n"
     ]
    }
   ],
   "source": [
    "avg_doc_length = lambda documents: sum([len(doc.page_content) for doc in documents]) // len(\n",
    "    documents\n",
    ")\n",
    "avg_char_count_pre = avg_doc_length(documents)\n",
    "avg_char_count_post = avg_doc_length(docs)\n",
    "print(f\"Average length among {len(documents)} documents loaded is {avg_char_count_pre} characters.\")\n",
    "print(f\"After the split we have {len(docs)} documents more than the original {len(documents)}.\")\n",
    "print(\n",
    "    f\"Average length among {len(docs)} documents (after split) is {avg_char_count_post} characters.\"\n",
    ")"
   ]
  },
  {
   "cell_type": "code",
   "execution_count": 13,
   "metadata": {
    "tags": []
   },
   "outputs": [
    {
     "name": "stdout",
     "output_type": "stream",
     "text": [
      "Embedding model Id : amazon.titan-embed-text-v1\n",
      "Sample embedding of a document chunk:  [ 0.3359375  -0.07910156 -0.33203125 ...  0.08837891 -0.29882812\n",
      " -0.23535156]\n",
      "Size of the embedding:  (1536,)\n"
     ]
    }
   ],
   "source": [
    "try:\n",
    "    \n",
    "    sample_embedding = np.array(bedrock_embeddings.embed_query(docs[0].page_content))\n",
    "    modelId = bedrock_embeddings.model_id\n",
    "    print(\"Embedding model Id :\", modelId)\n",
    "    print(\"Sample embedding of a document chunk: \", sample_embedding)\n",
    "    print(\"Size of the embedding: \", sample_embedding.shape)\n",
    "\n",
    "except ValueError as error:\n",
    "    if  \"AccessDeniedException\" in str(error):\n",
    "        print(f\"\\x1b[41m{error}\\\n",
    "        \\nTo troubeshoot this issue please refer to the following resources.\\\n",
    "         \\nhttps://docs.aws.amazon.com/IAM/latest/UserGuide/troubleshoot_access-denied.html\\\n",
    "         \\nhttps://docs.aws.amazon.com/bedrock/latest/userguide/security-iam.html\\x1b[0m\\n\")      \n",
    "        class StopExecution(ValueError):\n",
    "            def _render_traceback_(self):\n",
    "                pass\n",
    "        raise StopExecution        \n",
    "    else:\n",
    "        raise error"
   ]
  },
  {
   "cell_type": "markdown",
   "metadata": {},
   "source": [
    "Following the similar pattern embeddings could be generated for the entire corpus and stored in a vector store.\n",
    "\n",
    "Firt of all we have to create a vector store. In this workshop we will use ***Amazon OpenSerach serverless.***\n",
    "\n",
    "Amazon OpenSearch Serverless is a serverless option in Amazon OpenSearch Service. As a developer, you can use OpenSearch Serverless to run petabyte-scale workloads without configuring, managing, and scaling OpenSearch clusters. You get the same interactive millisecond response times as OpenSearch Service with the simplicity of a serverless environment. Pay only for what you use by automatically scaling resources to provide the right amount of capacity for your application—without impacting data ingestion. "
   ]
  },
  {
   "cell_type": "code",
   "execution_count": 31,
   "metadata": {},
   "outputs": [
    {
     "name": "stdout",
     "output_type": "stream",
     "text": [
      "encryption policy already exists: bedrock-workshop-rag-sp\n",
      "network policy already exists: bedrock-workshop-rag-np\n",
      "Collection already exists: bedrock-workshop-rag\n",
      "Data policy already exists: bedrock-workshop-rag-ap\n",
      "Host information: an3r7w8yqawjh1wxjzm5.us-east-1.aoss.amazonaws.com:443\n"
     ]
    }
   ],
   "source": [
    "import boto3\n",
    "import json\n",
    "import os\n",
    "import time\n",
    "\n",
    "vector_store_name = 'bedrock-workshop-rag'\n",
    "index_name = \"bedrock-workshop-rag-index\"\n",
    "encryption_policy_name = \"bedrock-workshop-rag-sp\"\n",
    "network_policy_name = \"bedrock-workshop-rag-np\"\n",
    "access_policy_name = 'bedrock-workshop-rag-ap'\n",
    "identity = boto3.client('sts').get_caller_identity()['Arn']\n",
    "\n",
    "aoss_client = boto3.client('opensearchserverless')\n",
    "\n",
    "# Function to create a security policy if it doesn't exist\n",
    "def create_security_policy_if_not_exists(policy_name, policy_type, policy):\n",
    "    try:\n",
    "        aoss_client.create_security_policy(name=policy_name, policy=json.dumps(policy), type=policy_type)\n",
    "        print(f\"Created {policy_type} policy: {policy_name}\")\n",
    "    except aoss_client.exceptions.ConflictException:\n",
    "        print(f\"{policy_type} policy already exists: {policy_name}\")\n",
    "\n",
    "# Encryption policy\n",
    "encryption_policy = {\n",
    "    'Rules': [{'Resource': ['collection/' + vector_store_name], 'ResourceType': 'collection'}],\n",
    "    'AWSOwnedKey': True\n",
    "}\n",
    "create_security_policy_if_not_exists(encryption_policy_name, 'encryption', encryption_policy)\n",
    "\n",
    "# Network policy\n",
    "network_policy = [\n",
    "    {'Rules': [{'Resource': ['collection/' + vector_store_name], 'ResourceType': 'collection'}], 'AllowFromPublic': True}\n",
    "]\n",
    "create_security_policy_if_not_exists(network_policy_name, 'network', network_policy)\n",
    "\n",
    "# Function to check if collection exists\n",
    "def collection_exists(collection_name):\n",
    "    try:\n",
    "        response = aoss_client.list_collections()\n",
    "        for collection_summary in response['collectionSummaries']:\n",
    "            if collection_summary['name'] == collection_name:\n",
    "                return True\n",
    "        return False\n",
    "    except Exception as e:\n",
    "        print(f\"Error checking collection existence: {str(e)}\")\n",
    "        return False\n",
    "\n",
    "# Create collection if it doesn't exist\n",
    "if not collection_exists(vector_store_name):\n",
    "    collection = aoss_client.create_collection(name=vector_store_name, type='VECTORSEARCH')\n",
    "    print(f\"Created collection: {vector_store_name}\")\n",
    "else:\n",
    "    print(f\"Collection already exists: {vector_store_name}\")\n",
    "\n",
    "# Wait for collection to be active or failed\n",
    "while collection_exists(vector_store_name):\n",
    "    status = aoss_client.list_collections(collectionFilters={'name': vector_store_name})['collectionSummaries'][0]['status']\n",
    "    if status in ('ACTIVE', 'FAILED'): break\n",
    "    time.sleep(10)\n",
    "\n",
    "# Access policy\n",
    "access_policy = [\n",
    "    {\n",
    "        'Rules': [\n",
    "            {\n",
    "                'Resource': ['collection/' + vector_store_name],\n",
    "                'Permission': ['aoss:CreateCollectionItems', 'aoss:DeleteCollectionItems', 'aoss:UpdateCollectionItems', 'aoss:DescribeCollectionItems'],\n",
    "                'ResourceType': 'collection'\n",
    "            },\n",
    "            {\n",
    "                'Resource': ['index/' + vector_store_name + '/*'],\n",
    "                'Permission': ['aoss:CreateIndex', 'aoss:DeleteIndex', 'aoss:UpdateIndex', 'aoss:DescribeIndex', 'aoss:ReadDocument', 'aoss:WriteDocument'],\n",
    "                'ResourceType': 'index'\n",
    "            }\n",
    "        ],\n",
    "        'Principal': [identity],\n",
    "        'Description': 'Easy data policy'\n",
    "    }\n",
    "]\n",
    "\n",
    "try:\n",
    "    aoss_client.create_access_policy(name=access_policy_name, policy=json.dumps(access_policy), type='data')\n",
    "    print(f\"Created data policy: {access_policy_name}\")\n",
    "except aoss_client.exceptions.ConflictException:\n",
    "    print(f\"Data policy already exists: {access_policy_name}\")\n",
    "\n",
    "# Function to get the collection ID\n",
    "def get_collection_id(collection_name):\n",
    "    try:\n",
    "        response = aoss_client.list_collections()\n",
    "        for collection in response['collectionSummaries']:\n",
    "            if collection['name'] == collection_name:\n",
    "                return collection.get('id')\n",
    "        return None\n",
    "    except Exception as e:\n",
    "        print(f\"Error retrieving collection ID: {str(e)}\")\n",
    "        return None\n",
    "\n",
    "# Get host information\n",
    "region = os.environ.get(\"AWS_DEFAULT_REGION\", None)\n",
    "collection_id = get_collection_id(vector_store_name)\n",
    "\n",
    "if region and collection_id:\n",
    "    host = f\"{collection_id}.{region}.aoss.amazonaws.com:443\"\n",
    "    print(f\"Host information: {host}\")\n",
    "else:\n",
    "    print(\"AWS_DEFAULT_REGION is not set or unable to retrieve collection ID.\")\n"
   ]
  },
  {
   "cell_type": "code",
   "execution_count": 17,
   "metadata": {},
   "outputs": [],
   "source": [
    "# import boto3\n",
    "# import time\n",
    "# vector_store_name = 'bedrock-workshop-rag'\n",
    "# index_name = \"bedrock-workshop-rag-index\"\n",
    "# encryption_policy_name = \"bedrock-workshop-rag-sp\"\n",
    "# network_policy_name = \"bedrock-workshop-rag-np\"\n",
    "# access_policy_name = 'bedrock-workshop-rag-ap'\n",
    "# identity = boto3.client('sts').get_caller_identity()['Arn']\n",
    "\n",
    "# aoss_client = boto3.client('opensearchserverless')\n",
    "\n",
    "# security_policy = aoss_client.create_security_policy(\n",
    "#     name = encryption_policy_name,\n",
    "#     policy = json.dumps(\n",
    "#         {\n",
    "#             'Rules': [{'Resource': ['collection/' + vector_store_name],\n",
    "#             'ResourceType': 'collection'}],\n",
    "#             'AWSOwnedKey': True\n",
    "#         }),\n",
    "#     type = 'encryption'\n",
    "# )\n",
    "\n",
    "# network_policy = aoss_client.create_security_policy(\n",
    "#     name = network_policy_name,\n",
    "#     policy = json.dumps(\n",
    "#         [\n",
    "#             {'Rules': [{'Resource': ['collection/' + vector_store_name],\n",
    "#             'ResourceType': 'collection'}],\n",
    "#             'AllowFromPublic': True}\n",
    "#         ]),\n",
    "#     type = 'network'\n",
    "# )\n",
    "\n",
    "# collection = aoss_client.create_collection(name=vector_store_name,type='VECTORSEARCH')\n",
    "\n",
    "# while True:\n",
    "#     status = aoss_client.list_collections(collectionFilters={'name':vector_store_name})['collectionSummaries'][0]['status']\n",
    "#     if status in ('ACTIVE', 'FAILED'): break\n",
    "#     time.sleep(10)\n",
    "\n",
    "# access_policy = aoss_client.create_access_policy(\n",
    "#     name = access_policy_name,\n",
    "#     policy = json.dumps(\n",
    "#         [\n",
    "#             {\n",
    "#                 'Rules': [\n",
    "#                     {\n",
    "#                         'Resource': ['collection/' + vector_store_name],\n",
    "#                         'Permission': [\n",
    "#                             'aoss:CreateCollectionItems',\n",
    "#                             'aoss:DeleteCollectionItems',\n",
    "#                             'aoss:UpdateCollectionItems',\n",
    "#                             'aoss:DescribeCollectionItems'],\n",
    "#                         'ResourceType': 'collection'\n",
    "#                     },\n",
    "#                     {\n",
    "#                         'Resource': ['index/' + vector_store_name + '/*'],\n",
    "#                         'Permission': [\n",
    "#                             'aoss:CreateIndex',\n",
    "#                             'aoss:DeleteIndex',\n",
    "#                             'aoss:UpdateIndex',\n",
    "#                             'aoss:DescribeIndex',\n",
    "#                             'aoss:ReadDocument',\n",
    "#                             'aoss:WriteDocument'],\n",
    "#                         'ResourceType': 'index'\n",
    "#                     }],\n",
    "#                 'Principal': [identity],\n",
    "#                 'Description': 'Easy data policy'}\n",
    "#         ]),\n",
    "#     type = 'data'\n",
    "# )\n",
    "\n",
    "# host = collection['createCollectionDetail']['id'] + '.' + os.environ.get(\"AWS_DEFAULT_REGION\", None) + '.aoss.amazonaws.com:443'"
   ]
  },
  {
   "cell_type": "markdown",
   "metadata": {},
   "source": [
    "Now we are ready to inject our documents into vector store. This can be easily done using [OpenSearch](https://python.langchain.com/docs/integrations/vectorstores/opensearch) implementation inside [LangChain](https://python.langchain.com/en/latest/modules/indexes/vectorstores/examples/faiss.html) which takes  input the embeddings model and the documents to create the entire vector store. Using the Index Wrapper we can abstract away most of the heavy lifting such as creating the prompt, getting embeddings of the query, sampling the relevant documents and calling the LLM. [VectorStoreIndexWrapper](https://python.langchain.com/en/latest/modules/indexes/getting_started.html#one-line-index-creation) helps us with that."
   ]
  },
  {
   "cell_type": "code",
   "execution_count": 35,
   "metadata": {},
   "outputs": [],
   "source": [
    "# !pip install opensearch-py"
   ]
  },
  {
   "cell_type": "code",
   "execution_count": 36,
   "metadata": {},
   "outputs": [],
   "source": [
    "from opensearchpy import OpenSearch, RequestsHttpConnection, AWSV4SignerAuth\n",
    "from langchain.vectorstores import OpenSearchVectorSearch\n",
    "\n",
    "service = 'aoss'\n",
    "credentials = boto3.Session().get_credentials()\n",
    "auth = AWSV4SignerAuth(credentials, os.environ.get(\"AWS_DEFAULT_REGION\", None), service)\n",
    "\n",
    "docsearch = OpenSearchVectorSearch.from_documents(\n",
    "    docs,\n",
    "    bedrock_embeddings,\n",
    "    opensearch_url=host,\n",
    "    http_auth=auth,\n",
    "    timeout = 100,\n",
    "    use_ssl = True,\n",
    "    verify_certs = True,\n",
    "    connection_class = RequestsHttpConnection,\n",
    "    index_name=index_name,\n",
    "    engine=\"faiss\",\n",
    ")"
   ]
  },
  {
   "cell_type": "markdown",
   "metadata": {},
   "source": [
    "## LangChain Vector Store and Querying"
   ]
  },
  {
   "cell_type": "markdown",
   "metadata": {
    "tags": []
   },
   "source": [
    "#### We can use the similarity search method to make a query and return the chunks of text without any LLM generating the response.\n",
    "\n",
    "It takes a few seconds to make documents availible in index. If you will get an empty output in a next cell, just wait a little bit and retry. "
   ]
  },
  {
   "cell_type": "code",
   "execution_count": 37,
   "metadata": {
    "scrolled": true,
    "tags": []
   },
   "outputs": [
    {
     "name": "stdout",
     "output_type": "stream",
     "text": [
      "[\n",
      "  {\n",
      "    \"lc\": 1,\n",
      "    \"type\": \"constructor\",\n",
      "    \"id\": [\n",
      "      \"langchain\",\n",
      "      \"schema\",\n",
      "      \"document\",\n",
      "      \"Document\"\n",
      "    ],\n",
      "    \"kwargs\": {\n",
      "      \"page_content\": \"clerks of federal or state courts are discussed \\nlater under Bail received by court clerks.\\nHowever, you do not have to file Form 8300 \\nif the transaction is not related to your trade or \\nbusiness. For example, if you own a jewelry \\nstore and sell your personal automobile for \\nmore than $10,000 in cash, you would not sub-\\nmit a Form 8300 for that transaction.\\nTransaction defined.  A \\u201ctransaction\\u201d occurs \\nwhen:\\nGoods, services, or property are sold;\\nProperty is rented;\\nCash is exchanged for other cash;\\nA contribution is made to a trust or escrow \\naccount;\\nA loan is made or repaid; or\\nCash is converted to a negotiable instru-\\nment, such as a check or a bond.\\nPerson defined.  A \\u201cperson\\u201d includes an indi-\\nvidual, a company, a corporation, a partnership, \\nan association, a trust, or an estate.\\nExempt organizations, including employee \\nplans, are also \\u201cpersons.\\u201d However, exempt or-\\nganizations do not have to file Form 8300 for a \\nmore-than-$10,000 charitable cash contribution \\nthey receive since it is not received in the \\ncourse of a trade or business.\\nForeign transactions.  You do not have to file \\nForm 8300 if the entire transaction (including \\nthe receipt of cash) takes place outside of:\\nThe 50 states,\\nThe District of Columbia,\\nPuerto Rico, or\\nA possession or territory of the United \\nStates.\\nHowever, you must file Form 8300 if any part of \\nthe transaction (including the receipt of cash) \\noccurs in Puerto Rico or a possession or terri-\\ntory of the United States and you are subject to \\nthe Internal Revenue Code.\\nBail received by court clerks.  Any clerk of a \\nfederal or state court who receives more than \\n$10,000 in cash as bail for an individual \\ncharged with any of the following criminal offen-\\nses must file Form 8300:\\n1.Any federal offense involving a controlled \\nsubstance,\\n2.Racketeering,\\n3.Money laundering, and\\n4.Any state offense substantially similar to \\n(1), (2), or (3) above.\\nFor more information about the rules that apply\",\n",
      "      \"metadata\": {\n",
      "        \"source\": \"data/p1544.pdf\",\n",
      "        \"page\": 1\n",
      "      }\n",
      "    }\n",
      "  },\n",
      "  {\n",
      "    \"lc\": 1,\n",
      "    \"type\": \"constructor\",\n",
      "    \"id\": [\n",
      "      \"langchain\",\n",
      "      \"schema\",\n",
      "      \"document\",\n",
      "      \"Document\"\n",
      "    ],\n",
      "    \"kwargs\": {\n",
      "      \"page_content\": \"funds.\\nWillfully  means voluntarily, consciously, and intention-\\nally. A responsible person acts willfully if the person knows \\nthe required actions of collecting, accounting for, or paying \\nover trust fund taxes aren't taking place, or recklessly dis-\\nregards obvious and known risks to the government's right \\nto receive trust fund taxes.\\nSeparate accounting when deposits aren't made or \\nwithheld taxes aren't paid.  Separate accounting may \\nbe required if you don't pay over withheld employee social \\nsecurity, Medicare, or income taxes; deposit required \\ntaxes; make required payments; or file tax returns. In this \\ncase, you would receive written notice from the IRS requir-\\ning you to deposit taxes into a special trust account for the \\nU.S. Government.\\nY ou may be charged with criminal penalties if you \\ndon't comply with the special bank deposit re-\\nquirements for the special trust account for the \\nU.S. Government.\\n\\u201cAveraged\\u201d FTD penalty.  The IRS may assess an \\n\\\"averaged\\\" FTD penalty of 2% to 10% if you\\u2019re a monthly \\nschedule depositor and didn't properly complete Form \\n941, line 16; Form 943, line 17; Form 944, line 13; or Form \\n945, line 7, when your tax liability shown on Form 941, \\nline 12; Form 943, line 13; Form 944, line 9; or Form 945, \\nline 3, equaled or exceeded $2,500.\\nThe IRS may also assess an \\\"averaged\\\" FTD penalty of \\n2% to 10% if you\\u2019re a semiweekly schedule depositor and \\nyour tax liability shown on Form 941, line 12; Form 943, \\nline 13; Form 944, line 9; or Form 945, line 3, equaled or \\nexceeded $2,500 and you:\\n\\u2022Completed Form 941, line 16, instead of Schedule B \\n(Form 941); Form 943, line 17, instead of Form 943-A; \\nForm 944, line 13, instead of Form 945-A; or Form \\n945, line 7, instead of Form 945-A;\\n\\u2022Failed to attach a properly completed Schedule B \\n(Form 941); Form 943-A, or Form 945-A, as applica-\\nble; or\\n\\u2022Improperly completed Schedule B (Form 941), Form \\n943-A, or Form 945-A by, for example, entering tax de-\",\n",
      "      \"metadata\": {\n",
      "        \"source\": \"data/p15.pdf\",\n",
      "        \"page\": 34\n",
      "      }\n",
      "    }\n",
      "  },\n",
      "  {\n",
      "    \"lc\": 1,\n",
      "    \"type\": \"constructor\",\n",
      "    \"id\": [\n",
      "      \"langchain\",\n",
      "      \"schema\",\n",
      "      \"document\",\n",
      "      \"Document\"\n",
      "    ],\n",
      "    \"kwargs\": {\n",
      "      \"page_content\": \"ure-to- pay (FTP) penalty of 0.5% per month of the amount \\nof tax. For individual filers only, the FTP penalty is reduced \\nfrom 0.5% per month to 0.25% per month if an installment \\nagreement is in effect. Y ou must have filed your return on \\nor before the due date of the return to qualify for the re-\\nduced penalty. The maximum amount of the FTP penalty \\nis also 25% of the tax due. If both penalties apply in any \\nmonth, the FTF penalty is reduced by the amount of the \\nFTP penalty. The penalties won't be charged if you have \\nreasonable cause for failing to file or pay. If you receive a \\npenalty notice, you can provide an explanation of why you \\nbelieve reasonable cause exists.\\nNote.  In addition to any penalties, interest accrues \\nfrom the due date of the tax on any unpaid balance.\\nIf income, social security, or Medicare taxes that must \\nbe withheld aren't withheld or aren't paid, you may be per-\\nsonally liable for the trust fund recovery penalty. See T rust \\nfund recovery penalty  in section 11.\\nGenerally, the use of a third -party payer, such as a PSP \\nor reporting agent, doesn't relieve an employer of the re-\\nsponsibility to ensure tax returns are filed and all taxes are \\npaid or deposited correctly and on time. However, see \\nCertified professional employer organization (CPEO) , in \\nsection 16, for an exception.\\nDon't file more than one return per return period. \\nEmployers with multiple locations or divisions must file \\nonly one Form 941 per quarter or one Form 944 per year. \\nAn agricultural employer must file only one Form 943 per \\nyear. A payer of nonpayroll payments that withheld federal \\nincome tax or backup withholding must file only one Form \\n945 per year. Filing more than one return may result in \\nprocessing delays and may require correspondence be-\\ntween you and the IRS. For information on making adjust-\\nments to previously filed returns, see section 13 .\\nReminders about filing. \\n\\u2022Don't report more than 1 calendar quarter on a Form \\n941.\",\n",
      "      \"metadata\": {\n",
      "        \"source\": \"data/p15.pdf\",\n",
      "        \"page\": 36\n",
      "      }\n",
      "    }\n",
      "  }\n",
      "]\n"
     ]
    }
   ],
   "source": [
    "query = \"Is it possible that I get sentenced to jail due to failure in filings?\"\n",
    "\n",
    "results = docsearch.similarity_search(query, k=3)  # our search query  # return 3 most relevant docs\n",
    "print(dumps(results, pretty=True))"
   ]
  },
  {
   "cell_type": "markdown",
   "metadata": {},
   "source": [
    "#### All of these are relevant results, telling us that the retrieval component of our systems is functioning. The next step is adding our LLM to generatively answer our question using the information provided in these retrieved contexts."
   ]
  },
  {
   "cell_type": "markdown",
   "metadata": {},
   "source": [
    "## Generative Question Answering\n",
    "\n",
    "In generative question-answering (GQA), we pass our question to the Claude-2 but instruct it to base the answer on the information returned from our knowledge base. We can do this in LangChain easily using the RetrievalQA chain."
   ]
  },
  {
   "cell_type": "code",
   "execution_count": 38,
   "metadata": {
    "tags": []
   },
   "outputs": [],
   "source": [
    "from langchain.chains import RetrievalQA\n",
    "\n",
    "qa = RetrievalQA.from_chain_type(llm=llm, chain_type=\"stuff\", retriever=docsearch.as_retriever())"
   ]
  },
  {
   "cell_type": "markdown",
   "metadata": {},
   "source": [
    "#### Let’s try this with our earlier query:"
   ]
  },
  {
   "cell_type": "code",
   "execution_count": 39,
   "metadata": {
    "tags": []
   },
   "outputs": [
    {
     "data": {
      "text/plain": [
       "\" Based on the context provided, it does not seem likely that you would be sentenced to jail solely for failure to properly file certain tax forms, such as Form 8300. Some key points:\\n\\n- The passage discusses civil penalties like fines for failure to file Form 8300 or other information returns, but does not mention criminal penalties or jail time for such failures.\\n\\n- It notes that criminal penalties may apply if you don't comply with special bank deposit requirements for a special trust account for the U.S. Government, but this seems to refer to a situation where the IRS has required you to set up such an account after failing to pay over withheld taxes - not just for failure to file information returns.\\n\\n- In the section on Trust Fund Recovery Penalty, it notes that penalty is 100% of unpaid trust fund tax if those taxes are not paid over, and that criminal penalties may apply for failure to comply with special trust account deposit requirements in that situation. However, again\""
      ]
     },
     "execution_count": 39,
     "metadata": {},
     "output_type": "execute_result"
    }
   ],
   "source": [
    "qa.run(query)"
   ]
  },
  {
   "cell_type": "markdown",
   "metadata": {},
   "source": [
    "We’re still not entirely protected from convincing yet false hallucinations by the model, they can happen, and it’s unlikely that we can eliminate the problem completely. However, we can do more to improve our trust in the answers provided.\n",
    "\n",
    "An effective way of doing this is by adding citations to the response, allowing a user to see where the information is coming from. We can do this using a slightly different version of the RetrievalQA chain called RetrievalQAWithSourcesChain."
   ]
  },
  {
   "cell_type": "code",
   "execution_count": 40,
   "metadata": {
    "tags": []
   },
   "outputs": [],
   "source": [
    "from langchain.chains import RetrievalQAWithSourcesChain\n",
    "\n",
    "qa_with_sources = RetrievalQA.from_chain_type(llm=llm, chain_type=\"stuff\", retriever=docsearch.as_retriever(search_kwargs={'k': 3}),return_source_documents=True)"
   ]
  },
  {
   "cell_type": "code",
   "execution_count": 41,
   "metadata": {
    "tags": []
   },
   "outputs": [
    {
     "name": "stdout",
     "output_type": "stream",
     "text": [
      "{\n",
      "  \"query\": \"Is it possible that I get sentenced to jail due to failure in filings?\",\n",
      "  \"result\": \" Based on the context provided, it is possible to face criminal penalties including jail time for failure to properly file certain tax forms or comply with special bank deposit requirements related to withholding taxes. Specifically:\\n\\n- If you are required to file Form 8300 for cash transactions over $10,000 related to your trade or business, but willfully fail to do so, you may face up to 5 years in prison. \\n\\n- If you are required to deposit taxes withheld from employees into a special trust account for the government but don't comply, you may face criminal penalties.\\n\\n- The context mentions that if income, social security, or Medicare taxes that must be withheld aren't withheld or paid over, you may be personally liable for the trust fund recovery penalty, which can include jail time in criminal cases.\\n\\nSo in summary, yes, failing to properly file required tax forms or comply with special deposit rules for withholding taxes can potentially lead to criminal penalties including imprisonment\",\n",
      "  \"source_documents\": [\n",
      "    {\n",
      "      \"lc\": 1,\n",
      "      \"type\": \"constructor\",\n",
      "      \"id\": [\n",
      "        \"langchain\",\n",
      "        \"schema\",\n",
      "        \"document\",\n",
      "        \"Document\"\n",
      "      ],\n",
      "      \"kwargs\": {\n",
      "        \"page_content\": \"clerks of federal or state courts are discussed \\nlater under Bail received by court clerks.\\nHowever, you do not have to file Form 8300 \\nif the transaction is not related to your trade or \\nbusiness. For example, if you own a jewelry \\nstore and sell your personal automobile for \\nmore than $10,000 in cash, you would not sub-\\nmit a Form 8300 for that transaction.\\nTransaction defined.  A \\u201ctransaction\\u201d occurs \\nwhen:\\nGoods, services, or property are sold;\\nProperty is rented;\\nCash is exchanged for other cash;\\nA contribution is made to a trust or escrow \\naccount;\\nA loan is made or repaid; or\\nCash is converted to a negotiable instru-\\nment, such as a check or a bond.\\nPerson defined.  A \\u201cperson\\u201d includes an indi-\\nvidual, a company, a corporation, a partnership, \\nan association, a trust, or an estate.\\nExempt organizations, including employee \\nplans, are also \\u201cpersons.\\u201d However, exempt or-\\nganizations do not have to file Form 8300 for a \\nmore-than-$10,000 charitable cash contribution \\nthey receive since it is not received in the \\ncourse of a trade or business.\\nForeign transactions.  You do not have to file \\nForm 8300 if the entire transaction (including \\nthe receipt of cash) takes place outside of:\\nThe 50 states,\\nThe District of Columbia,\\nPuerto Rico, or\\nA possession or territory of the United \\nStates.\\nHowever, you must file Form 8300 if any part of \\nthe transaction (including the receipt of cash) \\noccurs in Puerto Rico or a possession or terri-\\ntory of the United States and you are subject to \\nthe Internal Revenue Code.\\nBail received by court clerks.  Any clerk of a \\nfederal or state court who receives more than \\n$10,000 in cash as bail for an individual \\ncharged with any of the following criminal offen-\\nses must file Form 8300:\\n1.Any federal offense involving a controlled \\nsubstance,\\n2.Racketeering,\\n3.Money laundering, and\\n4.Any state offense substantially similar to \\n(1), (2), or (3) above.\\nFor more information about the rules that apply\",\n",
      "        \"metadata\": {\n",
      "          \"source\": \"data/p1544.pdf\",\n",
      "          \"page\": 1\n",
      "        }\n",
      "      }\n",
      "    },\n",
      "    {\n",
      "      \"lc\": 1,\n",
      "      \"type\": \"constructor\",\n",
      "      \"id\": [\n",
      "        \"langchain\",\n",
      "        \"schema\",\n",
      "        \"document\",\n",
      "        \"Document\"\n",
      "      ],\n",
      "      \"kwargs\": {\n",
      "        \"page_content\": \"funds.\\nWillfully  means voluntarily, consciously, and intention-\\nally. A responsible person acts willfully if the person knows \\nthe required actions of collecting, accounting for, or paying \\nover trust fund taxes aren't taking place, or recklessly dis-\\nregards obvious and known risks to the government's right \\nto receive trust fund taxes.\\nSeparate accounting when deposits aren't made or \\nwithheld taxes aren't paid.  Separate accounting may \\nbe required if you don't pay over withheld employee social \\nsecurity, Medicare, or income taxes; deposit required \\ntaxes; make required payments; or file tax returns. In this \\ncase, you would receive written notice from the IRS requir-\\ning you to deposit taxes into a special trust account for the \\nU.S. Government.\\nY ou may be charged with criminal penalties if you \\ndon't comply with the special bank deposit re-\\nquirements for the special trust account for the \\nU.S. Government.\\n\\u201cAveraged\\u201d FTD penalty.  The IRS may assess an \\n\\\"averaged\\\" FTD penalty of 2% to 10% if you\\u2019re a monthly \\nschedule depositor and didn't properly complete Form \\n941, line 16; Form 943, line 17; Form 944, line 13; or Form \\n945, line 7, when your tax liability shown on Form 941, \\nline 12; Form 943, line 13; Form 944, line 9; or Form 945, \\nline 3, equaled or exceeded $2,500.\\nThe IRS may also assess an \\\"averaged\\\" FTD penalty of \\n2% to 10% if you\\u2019re a semiweekly schedule depositor and \\nyour tax liability shown on Form 941, line 12; Form 943, \\nline 13; Form 944, line 9; or Form 945, line 3, equaled or \\nexceeded $2,500 and you:\\n\\u2022Completed Form 941, line 16, instead of Schedule B \\n(Form 941); Form 943, line 17, instead of Form 943-A; \\nForm 944, line 13, instead of Form 945-A; or Form \\n945, line 7, instead of Form 945-A;\\n\\u2022Failed to attach a properly completed Schedule B \\n(Form 941); Form 943-A, or Form 945-A, as applica-\\nble; or\\n\\u2022Improperly completed Schedule B (Form 941), Form \\n943-A, or Form 945-A by, for example, entering tax de-\",\n",
      "        \"metadata\": {\n",
      "          \"source\": \"data/p15.pdf\",\n",
      "          \"page\": 34\n",
      "        }\n",
      "      }\n",
      "    },\n",
      "    {\n",
      "      \"lc\": 1,\n",
      "      \"type\": \"constructor\",\n",
      "      \"id\": [\n",
      "        \"langchain\",\n",
      "        \"schema\",\n",
      "        \"document\",\n",
      "        \"Document\"\n",
      "      ],\n",
      "      \"kwargs\": {\n",
      "        \"page_content\": \"ure-to- pay (FTP) penalty of 0.5% per month of the amount \\nof tax. For individual filers only, the FTP penalty is reduced \\nfrom 0.5% per month to 0.25% per month if an installment \\nagreement is in effect. Y ou must have filed your return on \\nor before the due date of the return to qualify for the re-\\nduced penalty. The maximum amount of the FTP penalty \\nis also 25% of the tax due. If both penalties apply in any \\nmonth, the FTF penalty is reduced by the amount of the \\nFTP penalty. The penalties won't be charged if you have \\nreasonable cause for failing to file or pay. If you receive a \\npenalty notice, you can provide an explanation of why you \\nbelieve reasonable cause exists.\\nNote.  In addition to any penalties, interest accrues \\nfrom the due date of the tax on any unpaid balance.\\nIf income, social security, or Medicare taxes that must \\nbe withheld aren't withheld or aren't paid, you may be per-\\nsonally liable for the trust fund recovery penalty. See T rust \\nfund recovery penalty  in section 11.\\nGenerally, the use of a third -party payer, such as a PSP \\nor reporting agent, doesn't relieve an employer of the re-\\nsponsibility to ensure tax returns are filed and all taxes are \\npaid or deposited correctly and on time. However, see \\nCertified professional employer organization (CPEO) , in \\nsection 16, for an exception.\\nDon't file more than one return per return period. \\nEmployers with multiple locations or divisions must file \\nonly one Form 941 per quarter or one Form 944 per year. \\nAn agricultural employer must file only one Form 943 per \\nyear. A payer of nonpayroll payments that withheld federal \\nincome tax or backup withholding must file only one Form \\n945 per year. Filing more than one return may result in \\nprocessing delays and may require correspondence be-\\ntween you and the IRS. For information on making adjust-\\nments to previously filed returns, see section 13 .\\nReminders about filing. \\n\\u2022Don't report more than 1 calendar quarter on a Form \\n941.\",\n",
      "        \"metadata\": {\n",
      "          \"source\": \"data/p15.pdf\",\n",
      "          \"page\": 36\n",
      "        }\n",
      "      }\n",
      "    }\n",
      "  ]\n",
      "}\n"
     ]
    }
   ],
   "source": [
    "print(dumps(qa_with_sources(query), pretty=True))"
   ]
  },
  {
   "cell_type": "markdown",
   "metadata": {},
   "source": [
    "#### Now we have answered the question being asked but also included the source of this information being used by the LLM.\n",
    "\n",
    "#### We’ve learned how to ground Large Language Models with source knowledge by using a vector database as our knowledge base. Using this, we can encourage accuracy in our LLM’s responses, keep source knowledge up to date, and improve trust in our system by providing citations with every answer."
   ]
  },
  {
   "cell_type": "markdown",
   "metadata": {},
   "source": [
    "We can use this embedding of the query to then fetch relevant documents.\n",
    "Now our query is represented as embeddings we can do a similarity search of our query against our data store providing us with the most relevant information."
   ]
  },
  {
   "cell_type": "markdown",
   "metadata": {},
   "source": [
    "### Customisable option\n",
    "In the above scenario you explored the quick and easy way to get a context-aware answer to your question. Now let's have a look at a more customizable option with the helpf of [RetrievalQA](https://python.langchain.com/en/latest/modules/chains/index_examples/vector_db_qa.html) where you can customize how the documents fetched should be added to prompt using `chain_type` parameter. Also, if you want to control how many relevant documents should be retrieved then change the `k` parameter in the cell below to see different outputs. In many scenarios you might want to know which were the source documents that the LLM used to generate the answer, you can get those documents in the output using `return_source_documents` which returns the documents that are added to the context of the LLM prompt. `RetrievalQA` also allows you to provide a custom [prompt template](https://python.langchain.com/en/latest/modules/prompts/prompt_templates/getting_started.html) which can be specific to the model.\n",
    "\n",
    "Note: In this example we are using Anthropic Claude as the LLM under Amazon Bedrock, this particular model performs best if the inputs are provided under `Human:` and the model is requested to generate an output after `Assistant:`. In the cell below you see an example of how to control the prompt such that the LLM stays grounded and doesn't answer outside the context."
   ]
  },
  {
   "cell_type": "code",
   "execution_count": 42,
   "metadata": {},
   "outputs": [
    {
     "name": "stdout",
     "output_type": "stream",
     "text": [
      " Sì, è possibile che una persona venga condannata al carcere per non aver adempiuto correttamente\n",
      "agli obblighi di dichiarazione fiscale. Infatti, secondo quanto riportato nel testo, in alcuni casi\n",
      "specifici come il mancato versamento delle ritenute previdenziali e assistenziali dei dipendenti,\n",
      "può scattare una pena detta \"Trust fund recovery penalty\" che prevede una multa del 100% sulle tasse\n",
      "non pagate. Inoltre, se le tasse non pagate non possono essere recuperate immediatamente, chi è\n",
      "stato ritenuto responsabile di tale omissione può andare incontro a conseguenze penali che includono\n",
      "la reclusione, soprattutto se l'omissione è st\n"
     ]
    }
   ],
   "source": [
    "from langchain.chains import RetrievalQA\n",
    "from langchain.prompts import PromptTemplate\n",
    "\n",
    "prompt_template = \"\"\"Human: Use the following pieces of context to provide a concise answer in Italian to the question at the end. If you don't know the answer, just say that you don't know, don't try to make up an answer.\n",
    "\n",
    "{context}\n",
    "\n",
    "Question: {question}\n",
    "Assistant:\"\"\"\n",
    "\n",
    "PROMPT = PromptTemplate(template=prompt_template, input_variables=[\"context\", \"question\"])\n",
    "\n",
    "qa_prompt = RetrievalQA.from_chain_type(\n",
    "    llm=llm,\n",
    "    chain_type=\"stuff\",\n",
    "    retriever=docsearch.as_retriever(),\n",
    "    return_source_documents=True,\n",
    "    chain_type_kwargs={\"prompt\": PROMPT},\n",
    ")\n",
    "query = \"Is it possible that I get sentenced to jail due to failure in filings?\"\n",
    "result = qa_prompt({\"query\": query})\n",
    "print_ww(result[\"result\"])"
   ]
  },
  {
   "cell_type": "code",
   "execution_count": 43,
   "metadata": {},
   "outputs": [
    {
     "name": "stdout",
     "output_type": "stream",
     "text": [
      "{\n",
      "  \"query\": \"Is it possible that I get sentenced to jail due to failure in filings?\",\n",
      "  \"result\": \" S\\u00ec, \\u00e8 possibile che una persona venga condannata al carcere per non aver adempiuto correttamente agli obblighi di dichiarazione fiscale. Infatti, secondo quanto riportato nel testo, in alcuni casi specifici come il mancato versamento delle ritenute previdenziali e assistenziali dei dipendenti, pu\\u00f2 scattare una pena detta \\\"Trust fund recovery penalty\\\" che prevede una multa del 100% sulle tasse non pagate. Inoltre, se le tasse non pagate non possono essere recuperate immediatamente, chi \\u00e8 stato ritenuto responsabile di tale omissione pu\\u00f2 andare incontro a conseguenze penali che includono la reclusione, soprattutto se l'omissione \\u00e8 st\",\n",
      "  \"source_documents\": [\n",
      "    {\n",
      "      \"lc\": 1,\n",
      "      \"type\": \"constructor\",\n",
      "      \"id\": [\n",
      "        \"langchain\",\n",
      "        \"schema\",\n",
      "        \"document\",\n",
      "        \"Document\"\n",
      "      ],\n",
      "      \"kwargs\": {\n",
      "        \"page_content\": \"clerks of federal or state courts are discussed \\nlater under Bail received by court clerks.\\nHowever, you do not have to file Form 8300 \\nif the transaction is not related to your trade or \\nbusiness. For example, if you own a jewelry \\nstore and sell your personal automobile for \\nmore than $10,000 in cash, you would not sub-\\nmit a Form 8300 for that transaction.\\nTransaction defined.  A \\u201ctransaction\\u201d occurs \\nwhen:\\nGoods, services, or property are sold;\\nProperty is rented;\\nCash is exchanged for other cash;\\nA contribution is made to a trust or escrow \\naccount;\\nA loan is made or repaid; or\\nCash is converted to a negotiable instru-\\nment, such as a check or a bond.\\nPerson defined.  A \\u201cperson\\u201d includes an indi-\\nvidual, a company, a corporation, a partnership, \\nan association, a trust, or an estate.\\nExempt organizations, including employee \\nplans, are also \\u201cpersons.\\u201d However, exempt or-\\nganizations do not have to file Form 8300 for a \\nmore-than-$10,000 charitable cash contribution \\nthey receive since it is not received in the \\ncourse of a trade or business.\\nForeign transactions.  You do not have to file \\nForm 8300 if the entire transaction (including \\nthe receipt of cash) takes place outside of:\\nThe 50 states,\\nThe District of Columbia,\\nPuerto Rico, or\\nA possession or territory of the United \\nStates.\\nHowever, you must file Form 8300 if any part of \\nthe transaction (including the receipt of cash) \\noccurs in Puerto Rico or a possession or terri-\\ntory of the United States and you are subject to \\nthe Internal Revenue Code.\\nBail received by court clerks.  Any clerk of a \\nfederal or state court who receives more than \\n$10,000 in cash as bail for an individual \\ncharged with any of the following criminal offen-\\nses must file Form 8300:\\n1.Any federal offense involving a controlled \\nsubstance,\\n2.Racketeering,\\n3.Money laundering, and\\n4.Any state offense substantially similar to \\n(1), (2), or (3) above.\\nFor more information about the rules that apply\",\n",
      "        \"metadata\": {\n",
      "          \"source\": \"data/p1544.pdf\",\n",
      "          \"page\": 1\n",
      "        }\n",
      "      }\n",
      "    },\n",
      "    {\n",
      "      \"lc\": 1,\n",
      "      \"type\": \"constructor\",\n",
      "      \"id\": [\n",
      "        \"langchain\",\n",
      "        \"schema\",\n",
      "        \"document\",\n",
      "        \"Document\"\n",
      "      ],\n",
      "      \"kwargs\": {\n",
      "        \"page_content\": \"funds.\\nWillfully  means voluntarily, consciously, and intention-\\nally. A responsible person acts willfully if the person knows \\nthe required actions of collecting, accounting for, or paying \\nover trust fund taxes aren't taking place, or recklessly dis-\\nregards obvious and known risks to the government's right \\nto receive trust fund taxes.\\nSeparate accounting when deposits aren't made or \\nwithheld taxes aren't paid.  Separate accounting may \\nbe required if you don't pay over withheld employee social \\nsecurity, Medicare, or income taxes; deposit required \\ntaxes; make required payments; or file tax returns. In this \\ncase, you would receive written notice from the IRS requir-\\ning you to deposit taxes into a special trust account for the \\nU.S. Government.\\nY ou may be charged with criminal penalties if you \\ndon't comply with the special bank deposit re-\\nquirements for the special trust account for the \\nU.S. Government.\\n\\u201cAveraged\\u201d FTD penalty.  The IRS may assess an \\n\\\"averaged\\\" FTD penalty of 2% to 10% if you\\u2019re a monthly \\nschedule depositor and didn't properly complete Form \\n941, line 16; Form 943, line 17; Form 944, line 13; or Form \\n945, line 7, when your tax liability shown on Form 941, \\nline 12; Form 943, line 13; Form 944, line 9; or Form 945, \\nline 3, equaled or exceeded $2,500.\\nThe IRS may also assess an \\\"averaged\\\" FTD penalty of \\n2% to 10% if you\\u2019re a semiweekly schedule depositor and \\nyour tax liability shown on Form 941, line 12; Form 943, \\nline 13; Form 944, line 9; or Form 945, line 3, equaled or \\nexceeded $2,500 and you:\\n\\u2022Completed Form 941, line 16, instead of Schedule B \\n(Form 941); Form 943, line 17, instead of Form 943-A; \\nForm 944, line 13, instead of Form 945-A; or Form \\n945, line 7, instead of Form 945-A;\\n\\u2022Failed to attach a properly completed Schedule B \\n(Form 941); Form 943-A, or Form 945-A, as applica-\\nble; or\\n\\u2022Improperly completed Schedule B (Form 941), Form \\n943-A, or Form 945-A by, for example, entering tax de-\",\n",
      "        \"metadata\": {\n",
      "          \"source\": \"data/p15.pdf\",\n",
      "          \"page\": 34\n",
      "        }\n",
      "      }\n",
      "    },\n",
      "    {\n",
      "      \"lc\": 1,\n",
      "      \"type\": \"constructor\",\n",
      "      \"id\": [\n",
      "        \"langchain\",\n",
      "        \"schema\",\n",
      "        \"document\",\n",
      "        \"Document\"\n",
      "      ],\n",
      "      \"kwargs\": {\n",
      "        \"page_content\": \"ure-to- pay (FTP) penalty of 0.5% per month of the amount \\nof tax. For individual filers only, the FTP penalty is reduced \\nfrom 0.5% per month to 0.25% per month if an installment \\nagreement is in effect. Y ou must have filed your return on \\nor before the due date of the return to qualify for the re-\\nduced penalty. The maximum amount of the FTP penalty \\nis also 25% of the tax due. If both penalties apply in any \\nmonth, the FTF penalty is reduced by the amount of the \\nFTP penalty. The penalties won't be charged if you have \\nreasonable cause for failing to file or pay. If you receive a \\npenalty notice, you can provide an explanation of why you \\nbelieve reasonable cause exists.\\nNote.  In addition to any penalties, interest accrues \\nfrom the due date of the tax on any unpaid balance.\\nIf income, social security, or Medicare taxes that must \\nbe withheld aren't withheld or aren't paid, you may be per-\\nsonally liable for the trust fund recovery penalty. See T rust \\nfund recovery penalty  in section 11.\\nGenerally, the use of a third -party payer, such as a PSP \\nor reporting agent, doesn't relieve an employer of the re-\\nsponsibility to ensure tax returns are filed and all taxes are \\npaid or deposited correctly and on time. However, see \\nCertified professional employer organization (CPEO) , in \\nsection 16, for an exception.\\nDon't file more than one return per return period. \\nEmployers with multiple locations or divisions must file \\nonly one Form 941 per quarter or one Form 944 per year. \\nAn agricultural employer must file only one Form 943 per \\nyear. A payer of nonpayroll payments that withheld federal \\nincome tax or backup withholding must file only one Form \\n945 per year. Filing more than one return may result in \\nprocessing delays and may require correspondence be-\\ntween you and the IRS. For information on making adjust-\\nments to previously filed returns, see section 13 .\\nReminders about filing. \\n\\u2022Don't report more than 1 calendar quarter on a Form \\n941.\",\n",
      "        \"metadata\": {\n",
      "          \"source\": \"data/p15.pdf\",\n",
      "          \"page\": 36\n",
      "        }\n",
      "      }\n",
      "    },\n",
      "    {\n",
      "      \"lc\": 1,\n",
      "      \"type\": \"constructor\",\n",
      "      \"id\": [\n",
      "        \"langchain\",\n",
      "        \"schema\",\n",
      "        \"document\",\n",
      "        \"Document\"\n",
      "      ],\n",
      "      \"kwargs\": {\n",
      "        \"page_content\": \"irb01-50.pdf .\\nExample.  Cedar, Inc., is required to make a deposit of \\n$1,000 on February 15 and $1,500 on March 15. It doesn't \\nmake the deposit on February 15. On March 15, Cedar, \\nInc., deposits $2,000. Under the deposits rule, which ap-\\nplies deposits to the most recent tax liability, $1,500 of the \\ndeposit is applied to the March 15 deposit and the remain-\\ning $500 is applied to the February deposit. Accordingly, \\n$500 of the February 15 liability remains undeposited. The \\npenalty on this underdeposit will apply as explained ear-\\nlier.\\nTrust fund recovery penalty.  If federal income, social \\nsecurity, or Medicare taxes that must be withheld (that is, \\ntrust fund taxes) aren't withheld or aren't deposited or paid \\nto the U.S. T reasury, the trust fund recovery penalty may \\napply. The penalty is 100% of the unpaid trust fund tax. If \\nthese unpaid taxes can't be immediately collected from \\nthe employer or business, the trust fund recovery penalty \\nmay be imposed on all persons who are determined by \\nthe IRS to be responsible for collecting, accounting for, or \\npaying over these taxes, and who acted willfully in not do-\\ning so. The trust fund recovery penalty won't apply to any \\namount of trust fund taxes an employer holds back in an-\\nticipation of any credits they are entitled to.\\nA responsible person  can be an officer or employee \\nof a corporation, a partner or employee of a partnership, \\nan accountant, a volunteer director/trustee, or an employee of a sole proprietorship, or any other person or \\nentity that is responsible for collecting, accounting for, or \\npaying over trust fund taxes. A responsible person may \\nalso include one who signs checks for the business or oth-\\nerwise has authority to cause the spending of business \\nfunds.\\nWillfully  means voluntarily, consciously, and intention-\\nally. A responsible person acts willfully if the person knows \\nthe required actions of collecting, accounting for, or paying\",\n",
      "        \"metadata\": {\n",
      "          \"source\": \"data/p15.pdf\",\n",
      "          \"page\": 34\n",
      "        }\n",
      "      }\n",
      "    }\n",
      "  ]\n",
      "}\n"
     ]
    }
   ],
   "source": [
    "print(dumps(result, pretty=True))"
   ]
  },
  {
   "cell_type": "markdown",
   "metadata": {},
   "source": [
    "### Clean up\n",
    "You have reached the end of this workshop. Following cell will delete all created resources.\n"
   ]
  },
  {
   "cell_type": "code",
   "execution_count": null,
   "metadata": {},
   "outputs": [],
   "source": [
    "aoss_client.delete_collection(id=collection['createCollectionDetail']['id'])\n",
    "aoss_client.delete_access_policy(name=access_policy_name, type='data')\n",
    "aoss_client.delete_security_policy(name=encryption_policy_name, type='encryption')\n",
    "aoss_client.delete_security_policy(name=network_policy_name, type='network')\n"
   ]
  },
  {
   "cell_type": "markdown",
   "metadata": {},
   "source": [
    "## Conclusion\n",
    "Congratulations on completing this moduel on retrieval augmented generation! This is an important technique that combines the power of large language models with the precision of retrieval methods. By augmenting generation with relevant retrieved examples, the responses we recieved become more coherent, consistent and grounded. You should feel proud of learning this innovative approach. I'm sure the knowledge you've gained will be very useful for building creative and engaging language generation systems. Well done!\n",
    "\n",
    "In the above implementation of RAG based Question Answering we have explored the following concepts and how to implement them using Amazon Bedrock and it's LangChain integration.\n",
    "\n",
    "- Loading documents and generating embeddings to create a vector store\n",
    "- Retrieving documents to the question\n",
    "- Preparing a prompt which goes as input to the LLM\n",
    "- Present an answer in a human friendly manner\n",
    "- keep source knowledge up to date, and improve trust in our system by providing citations with every answer.\n",
    "\n",
    "### Take-aways\n",
    "- Experiment with different Vector Stores\n",
    "- Leverage various models available under Amazon Bedrock to see alternate outputs\n",
    "- Explore options such as persistent storage of embeddings and document chunks\n",
    "- Integration with enterprise data stores\n",
    "\n",
    "# Thank You"
   ]
  },
  {
   "cell_type": "code",
   "execution_count": null,
   "metadata": {},
   "outputs": [],
   "source": []
  }
 ],
 "metadata": {
  "availableInstances": [
   {
    "_defaultOrder": 0,
    "_isFastLaunch": true,
    "category": "General purpose",
    "gpuNum": 0,
    "hideHardwareSpecs": false,
    "memoryGiB": 4,
    "name": "ml.t3.medium",
    "vcpuNum": 2
   },
   {
    "_defaultOrder": 1,
    "_isFastLaunch": false,
    "category": "General purpose",
    "gpuNum": 0,
    "hideHardwareSpecs": false,
    "memoryGiB": 8,
    "name": "ml.t3.large",
    "vcpuNum": 2
   },
   {
    "_defaultOrder": 2,
    "_isFastLaunch": false,
    "category": "General purpose",
    "gpuNum": 0,
    "hideHardwareSpecs": false,
    "memoryGiB": 16,
    "name": "ml.t3.xlarge",
    "vcpuNum": 4
   },
   {
    "_defaultOrder": 3,
    "_isFastLaunch": false,
    "category": "General purpose",
    "gpuNum": 0,
    "hideHardwareSpecs": false,
    "memoryGiB": 32,
    "name": "ml.t3.2xlarge",
    "vcpuNum": 8
   },
   {
    "_defaultOrder": 4,
    "_isFastLaunch": true,
    "category": "General purpose",
    "gpuNum": 0,
    "hideHardwareSpecs": false,
    "memoryGiB": 8,
    "name": "ml.m5.large",
    "vcpuNum": 2
   },
   {
    "_defaultOrder": 5,
    "_isFastLaunch": false,
    "category": "General purpose",
    "gpuNum": 0,
    "hideHardwareSpecs": false,
    "memoryGiB": 16,
    "name": "ml.m5.xlarge",
    "vcpuNum": 4
   },
   {
    "_defaultOrder": 6,
    "_isFastLaunch": false,
    "category": "General purpose",
    "gpuNum": 0,
    "hideHardwareSpecs": false,
    "memoryGiB": 32,
    "name": "ml.m5.2xlarge",
    "vcpuNum": 8
   },
   {
    "_defaultOrder": 7,
    "_isFastLaunch": false,
    "category": "General purpose",
    "gpuNum": 0,
    "hideHardwareSpecs": false,
    "memoryGiB": 64,
    "name": "ml.m5.4xlarge",
    "vcpuNum": 16
   },
   {
    "_defaultOrder": 8,
    "_isFastLaunch": false,
    "category": "General purpose",
    "gpuNum": 0,
    "hideHardwareSpecs": false,
    "memoryGiB": 128,
    "name": "ml.m5.8xlarge",
    "vcpuNum": 32
   },
   {
    "_defaultOrder": 9,
    "_isFastLaunch": false,
    "category": "General purpose",
    "gpuNum": 0,
    "hideHardwareSpecs": false,
    "memoryGiB": 192,
    "name": "ml.m5.12xlarge",
    "vcpuNum": 48
   },
   {
    "_defaultOrder": 10,
    "_isFastLaunch": false,
    "category": "General purpose",
    "gpuNum": 0,
    "hideHardwareSpecs": false,
    "memoryGiB": 256,
    "name": "ml.m5.16xlarge",
    "vcpuNum": 64
   },
   {
    "_defaultOrder": 11,
    "_isFastLaunch": false,
    "category": "General purpose",
    "gpuNum": 0,
    "hideHardwareSpecs": false,
    "memoryGiB": 384,
    "name": "ml.m5.24xlarge",
    "vcpuNum": 96
   },
   {
    "_defaultOrder": 12,
    "_isFastLaunch": false,
    "category": "General purpose",
    "gpuNum": 0,
    "hideHardwareSpecs": false,
    "memoryGiB": 8,
    "name": "ml.m5d.large",
    "vcpuNum": 2
   },
   {
    "_defaultOrder": 13,
    "_isFastLaunch": false,
    "category": "General purpose",
    "gpuNum": 0,
    "hideHardwareSpecs": false,
    "memoryGiB": 16,
    "name": "ml.m5d.xlarge",
    "vcpuNum": 4
   },
   {
    "_defaultOrder": 14,
    "_isFastLaunch": false,
    "category": "General purpose",
    "gpuNum": 0,
    "hideHardwareSpecs": false,
    "memoryGiB": 32,
    "name": "ml.m5d.2xlarge",
    "vcpuNum": 8
   },
   {
    "_defaultOrder": 15,
    "_isFastLaunch": false,
    "category": "General purpose",
    "gpuNum": 0,
    "hideHardwareSpecs": false,
    "memoryGiB": 64,
    "name": "ml.m5d.4xlarge",
    "vcpuNum": 16
   },
   {
    "_defaultOrder": 16,
    "_isFastLaunch": false,
    "category": "General purpose",
    "gpuNum": 0,
    "hideHardwareSpecs": false,
    "memoryGiB": 128,
    "name": "ml.m5d.8xlarge",
    "vcpuNum": 32
   },
   {
    "_defaultOrder": 17,
    "_isFastLaunch": false,
    "category": "General purpose",
    "gpuNum": 0,
    "hideHardwareSpecs": false,
    "memoryGiB": 192,
    "name": "ml.m5d.12xlarge",
    "vcpuNum": 48
   },
   {
    "_defaultOrder": 18,
    "_isFastLaunch": false,
    "category": "General purpose",
    "gpuNum": 0,
    "hideHardwareSpecs": false,
    "memoryGiB": 256,
    "name": "ml.m5d.16xlarge",
    "vcpuNum": 64
   },
   {
    "_defaultOrder": 19,
    "_isFastLaunch": false,
    "category": "General purpose",
    "gpuNum": 0,
    "hideHardwareSpecs": false,
    "memoryGiB": 384,
    "name": "ml.m5d.24xlarge",
    "vcpuNum": 96
   },
   {
    "_defaultOrder": 20,
    "_isFastLaunch": false,
    "category": "General purpose",
    "gpuNum": 0,
    "hideHardwareSpecs": true,
    "memoryGiB": 0,
    "name": "ml.geospatial.interactive",
    "supportedImageNames": [
     "sagemaker-geospatial-v1-0"
    ],
    "vcpuNum": 0
   },
   {
    "_defaultOrder": 21,
    "_isFastLaunch": true,
    "category": "Compute optimized",
    "gpuNum": 0,
    "hideHardwareSpecs": false,
    "memoryGiB": 4,
    "name": "ml.c5.large",
    "vcpuNum": 2
   },
   {
    "_defaultOrder": 22,
    "_isFastLaunch": false,
    "category": "Compute optimized",
    "gpuNum": 0,
    "hideHardwareSpecs": false,
    "memoryGiB": 8,
    "name": "ml.c5.xlarge",
    "vcpuNum": 4
   },
   {
    "_defaultOrder": 23,
    "_isFastLaunch": false,
    "category": "Compute optimized",
    "gpuNum": 0,
    "hideHardwareSpecs": false,
    "memoryGiB": 16,
    "name": "ml.c5.2xlarge",
    "vcpuNum": 8
   },
   {
    "_defaultOrder": 24,
    "_isFastLaunch": false,
    "category": "Compute optimized",
    "gpuNum": 0,
    "hideHardwareSpecs": false,
    "memoryGiB": 32,
    "name": "ml.c5.4xlarge",
    "vcpuNum": 16
   },
   {
    "_defaultOrder": 25,
    "_isFastLaunch": false,
    "category": "Compute optimized",
    "gpuNum": 0,
    "hideHardwareSpecs": false,
    "memoryGiB": 72,
    "name": "ml.c5.9xlarge",
    "vcpuNum": 36
   },
   {
    "_defaultOrder": 26,
    "_isFastLaunch": false,
    "category": "Compute optimized",
    "gpuNum": 0,
    "hideHardwareSpecs": false,
    "memoryGiB": 96,
    "name": "ml.c5.12xlarge",
    "vcpuNum": 48
   },
   {
    "_defaultOrder": 27,
    "_isFastLaunch": false,
    "category": "Compute optimized",
    "gpuNum": 0,
    "hideHardwareSpecs": false,
    "memoryGiB": 144,
    "name": "ml.c5.18xlarge",
    "vcpuNum": 72
   },
   {
    "_defaultOrder": 28,
    "_isFastLaunch": false,
    "category": "Compute optimized",
    "gpuNum": 0,
    "hideHardwareSpecs": false,
    "memoryGiB": 192,
    "name": "ml.c5.24xlarge",
    "vcpuNum": 96
   },
   {
    "_defaultOrder": 29,
    "_isFastLaunch": true,
    "category": "Accelerated computing",
    "gpuNum": 1,
    "hideHardwareSpecs": false,
    "memoryGiB": 16,
    "name": "ml.g4dn.xlarge",
    "vcpuNum": 4
   },
   {
    "_defaultOrder": 30,
    "_isFastLaunch": false,
    "category": "Accelerated computing",
    "gpuNum": 1,
    "hideHardwareSpecs": false,
    "memoryGiB": 32,
    "name": "ml.g4dn.2xlarge",
    "vcpuNum": 8
   },
   {
    "_defaultOrder": 31,
    "_isFastLaunch": false,
    "category": "Accelerated computing",
    "gpuNum": 1,
    "hideHardwareSpecs": false,
    "memoryGiB": 64,
    "name": "ml.g4dn.4xlarge",
    "vcpuNum": 16
   },
   {
    "_defaultOrder": 32,
    "_isFastLaunch": false,
    "category": "Accelerated computing",
    "gpuNum": 1,
    "hideHardwareSpecs": false,
    "memoryGiB": 128,
    "name": "ml.g4dn.8xlarge",
    "vcpuNum": 32
   },
   {
    "_defaultOrder": 33,
    "_isFastLaunch": false,
    "category": "Accelerated computing",
    "gpuNum": 4,
    "hideHardwareSpecs": false,
    "memoryGiB": 192,
    "name": "ml.g4dn.12xlarge",
    "vcpuNum": 48
   },
   {
    "_defaultOrder": 34,
    "_isFastLaunch": false,
    "category": "Accelerated computing",
    "gpuNum": 1,
    "hideHardwareSpecs": false,
    "memoryGiB": 256,
    "name": "ml.g4dn.16xlarge",
    "vcpuNum": 64
   },
   {
    "_defaultOrder": 35,
    "_isFastLaunch": false,
    "category": "Accelerated computing",
    "gpuNum": 1,
    "hideHardwareSpecs": false,
    "memoryGiB": 61,
    "name": "ml.p3.2xlarge",
    "vcpuNum": 8
   },
   {
    "_defaultOrder": 36,
    "_isFastLaunch": false,
    "category": "Accelerated computing",
    "gpuNum": 4,
    "hideHardwareSpecs": false,
    "memoryGiB": 244,
    "name": "ml.p3.8xlarge",
    "vcpuNum": 32
   },
   {
    "_defaultOrder": 37,
    "_isFastLaunch": false,
    "category": "Accelerated computing",
    "gpuNum": 8,
    "hideHardwareSpecs": false,
    "memoryGiB": 488,
    "name": "ml.p3.16xlarge",
    "vcpuNum": 64
   },
   {
    "_defaultOrder": 38,
    "_isFastLaunch": false,
    "category": "Accelerated computing",
    "gpuNum": 8,
    "hideHardwareSpecs": false,
    "memoryGiB": 768,
    "name": "ml.p3dn.24xlarge",
    "vcpuNum": 96
   },
   {
    "_defaultOrder": 39,
    "_isFastLaunch": false,
    "category": "Memory Optimized",
    "gpuNum": 0,
    "hideHardwareSpecs": false,
    "memoryGiB": 16,
    "name": "ml.r5.large",
    "vcpuNum": 2
   },
   {
    "_defaultOrder": 40,
    "_isFastLaunch": false,
    "category": "Memory Optimized",
    "gpuNum": 0,
    "hideHardwareSpecs": false,
    "memoryGiB": 32,
    "name": "ml.r5.xlarge",
    "vcpuNum": 4
   },
   {
    "_defaultOrder": 41,
    "_isFastLaunch": false,
    "category": "Memory Optimized",
    "gpuNum": 0,
    "hideHardwareSpecs": false,
    "memoryGiB": 64,
    "name": "ml.r5.2xlarge",
    "vcpuNum": 8
   },
   {
    "_defaultOrder": 42,
    "_isFastLaunch": false,
    "category": "Memory Optimized",
    "gpuNum": 0,
    "hideHardwareSpecs": false,
    "memoryGiB": 128,
    "name": "ml.r5.4xlarge",
    "vcpuNum": 16
   },
   {
    "_defaultOrder": 43,
    "_isFastLaunch": false,
    "category": "Memory Optimized",
    "gpuNum": 0,
    "hideHardwareSpecs": false,
    "memoryGiB": 256,
    "name": "ml.r5.8xlarge",
    "vcpuNum": 32
   },
   {
    "_defaultOrder": 44,
    "_isFastLaunch": false,
    "category": "Memory Optimized",
    "gpuNum": 0,
    "hideHardwareSpecs": false,
    "memoryGiB": 384,
    "name": "ml.r5.12xlarge",
    "vcpuNum": 48
   },
   {
    "_defaultOrder": 45,
    "_isFastLaunch": false,
    "category": "Memory Optimized",
    "gpuNum": 0,
    "hideHardwareSpecs": false,
    "memoryGiB": 512,
    "name": "ml.r5.16xlarge",
    "vcpuNum": 64
   },
   {
    "_defaultOrder": 46,
    "_isFastLaunch": false,
    "category": "Memory Optimized",
    "gpuNum": 0,
    "hideHardwareSpecs": false,
    "memoryGiB": 768,
    "name": "ml.r5.24xlarge",
    "vcpuNum": 96
   },
   {
    "_defaultOrder": 47,
    "_isFastLaunch": false,
    "category": "Accelerated computing",
    "gpuNum": 1,
    "hideHardwareSpecs": false,
    "memoryGiB": 16,
    "name": "ml.g5.xlarge",
    "vcpuNum": 4
   },
   {
    "_defaultOrder": 48,
    "_isFastLaunch": false,
    "category": "Accelerated computing",
    "gpuNum": 1,
    "hideHardwareSpecs": false,
    "memoryGiB": 32,
    "name": "ml.g5.2xlarge",
    "vcpuNum": 8
   },
   {
    "_defaultOrder": 49,
    "_isFastLaunch": false,
    "category": "Accelerated computing",
    "gpuNum": 1,
    "hideHardwareSpecs": false,
    "memoryGiB": 64,
    "name": "ml.g5.4xlarge",
    "vcpuNum": 16
   },
   {
    "_defaultOrder": 50,
    "_isFastLaunch": false,
    "category": "Accelerated computing",
    "gpuNum": 1,
    "hideHardwareSpecs": false,
    "memoryGiB": 128,
    "name": "ml.g5.8xlarge",
    "vcpuNum": 32
   },
   {
    "_defaultOrder": 51,
    "_isFastLaunch": false,
    "category": "Accelerated computing",
    "gpuNum": 1,
    "hideHardwareSpecs": false,
    "memoryGiB": 256,
    "name": "ml.g5.16xlarge",
    "vcpuNum": 64
   },
   {
    "_defaultOrder": 52,
    "_isFastLaunch": false,
    "category": "Accelerated computing",
    "gpuNum": 4,
    "hideHardwareSpecs": false,
    "memoryGiB": 192,
    "name": "ml.g5.12xlarge",
    "vcpuNum": 48
   },
   {
    "_defaultOrder": 53,
    "_isFastLaunch": false,
    "category": "Accelerated computing",
    "gpuNum": 4,
    "hideHardwareSpecs": false,
    "memoryGiB": 384,
    "name": "ml.g5.24xlarge",
    "vcpuNum": 96
   },
   {
    "_defaultOrder": 54,
    "_isFastLaunch": false,
    "category": "Accelerated computing",
    "gpuNum": 8,
    "hideHardwareSpecs": false,
    "memoryGiB": 768,
    "name": "ml.g5.48xlarge",
    "vcpuNum": 192
   },
   {
    "_defaultOrder": 55,
    "_isFastLaunch": false,
    "category": "Accelerated computing",
    "gpuNum": 8,
    "hideHardwareSpecs": false,
    "memoryGiB": 1152,
    "name": "ml.p4d.24xlarge",
    "vcpuNum": 96
   },
   {
    "_defaultOrder": 56,
    "_isFastLaunch": false,
    "category": "Accelerated computing",
    "gpuNum": 8,
    "hideHardwareSpecs": false,
    "memoryGiB": 1152,
    "name": "ml.p4de.24xlarge",
    "vcpuNum": 96
   }
  ],
  "instance_type": "ml.t3.medium",
  "kernelspec": {
   "display_name": "bedrockenv",
   "language": "python",
   "name": "bedrockenv"
  },
  "language_info": {
   "codemirror_mode": {
    "name": "ipython",
    "version": 3
   },
   "file_extension": ".py",
   "mimetype": "text/x-python",
   "name": "python",
   "nbconvert_exporter": "python",
   "pygments_lexer": "ipython3",
   "version": "3.12.1"
  }
 },
 "nbformat": 4,
 "nbformat_minor": 4
}
